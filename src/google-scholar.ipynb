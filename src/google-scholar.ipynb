{
 "cells": [
  {
   "cell_type": "code",
   "execution_count": 4,
   "metadata": {},
   "outputs": [
    {
     "name": "stdout",
     "output_type": "stream",
     "text": [
      "The autoreload extension is already loaded. To reload it, use:\n",
      "  %reload_ext autoreload\n"
     ]
    }
   ],
   "source": [
    "# autoreload external files on execution\n",
    "%load_ext autoreload\n",
    "%autoreload 2"
   ]
  },
  {
   "cell_type": "code",
   "execution_count": 2,
   "metadata": {},
   "outputs": [
    {
     "name": "stdout",
     "output_type": "stream",
     "text": [
      "Person(person_id=13, name='Abinew Ali Ayele', title='', university='Universität Hamburg', department='LT', scholar_id='g2m1wH4AAAAJ')\n",
      "searching google scholar for 'Abinew Ali Ayele'\n",
      "{'affiliation': 'Ph.D student, Universität Hamburg & Bahir Dar University',\n",
      " 'citedby': 229,\n",
      " 'container_type': 'Author',\n",
      " 'email_domain': '',\n",
      " 'filled': [],\n",
      " 'interests': ['Natural Language Processing',\n",
      "               'Low-resource Languages',\n",
      "               'Deep Learning',\n",
      "               'E-Services'],\n",
      " 'name': 'Abinew Ali Ayele',\n",
      " 'scholar_id': 'g2m1wH4AAAAJ',\n",
      " 'source': <AuthorSource.SEARCH_AUTHOR_SNIPPETS: 'SEARCH_AUTHOR_SNIPPETS'>,\n",
      " 'url_picture': 'https://scholar.google.com/citations?view_op=medium_photo&user=g2m1wH4AAAAJ'}\n",
      "\n",
      "\n"
     ]
    },
    {
     "ename": "OperationalError",
     "evalue": "no such column: scholar_id",
     "output_type": "error",
     "traceback": [
      "\u001b[1;31m---------------------------------------------------------------------------\u001b[0m",
      "\u001b[1;31mOperationalError\u001b[0m                          Traceback (most recent call last)",
      "\u001b[1;32mc:\\Users\\leore\\personal\\intro-to-data-engineering\\src\\google-scholar.ipynb Cell 2\u001b[0m in \u001b[0;36m2\n\u001b[0;32m     <a href='vscode-notebook-cell:/c%3A/Users/leore/personal/intro-to-data-engineering/src/google-scholar.ipynb#W1sZmlsZQ%3D%3D?line=18'>19</a>\u001b[0m     pprint(author)\n\u001b[0;32m     <a href='vscode-notebook-cell:/c%3A/Users/leore/personal/intro-to-data-engineering/src/google-scholar.ipynb#W1sZmlsZQ%3D%3D?line=20'>21</a>\u001b[0m     \u001b[39m# TODO: Hier nochmal prüfen ob die Namen und Uni wirklich übereinstimmen\u001b[39;00m\n\u001b[0;32m     <a href='vscode-notebook-cell:/c%3A/Users/leore/personal/intro-to-data-engineering/src/google-scholar.ipynb#W1sZmlsZQ%3D%3D?line=21'>22</a>\u001b[0m \n\u001b[0;32m     <a href='vscode-notebook-cell:/c%3A/Users/leore/personal/intro-to-data-engineering/src/google-scholar.ipynb#W1sZmlsZQ%3D%3D?line=22'>23</a>\u001b[0m     \u001b[39m# scholar_id updaten\u001b[39;00m\n\u001b[1;32m---> <a href='vscode-notebook-cell:/c%3A/Users/leore/personal/intro-to-data-engineering/src/google-scholar.ipynb#W1sZmlsZQ%3D%3D?line=23'>24</a>\u001b[0m     dbHelper\u001b[39m.\u001b[39;49mupdateField(person\u001b[39m.\u001b[39;49mperson_id, \u001b[39m\"\u001b[39;49m\u001b[39mscholar_id\u001b[39;49m\u001b[39m\"\u001b[39;49m, author[\u001b[39m\"\u001b[39;49m\u001b[39mscholar_id\u001b[39;49m\u001b[39m\"\u001b[39;49m])\n\u001b[0;32m     <a href='vscode-notebook-cell:/c%3A/Users/leore/personal/intro-to-data-engineering/src/google-scholar.ipynb#W1sZmlsZQ%3D%3D?line=25'>26</a>\u001b[0m     \u001b[39m# author = scholarly.fill(author, [\"basics\", \"indices\", \"counts\", \"coauthors\", \"publications\"])\u001b[39;00m\n\u001b[0;32m     <a href='vscode-notebook-cell:/c%3A/Users/leore/personal/intro-to-data-engineering/src/google-scholar.ipynb#W1sZmlsZQ%3D%3D?line=26'>27</a>\u001b[0m     \u001b[39m# pprint(author)\u001b[39;00m\n\u001b[0;32m     <a href='vscode-notebook-cell:/c%3A/Users/leore/personal/intro-to-data-engineering/src/google-scholar.ipynb#W1sZmlsZQ%3D%3D?line=28'>29</a>\u001b[0m \u001b[39mexcept\u001b[39;00m \u001b[39mStopIteration\u001b[39;00m \u001b[39mas\u001b[39;00m err:\n",
      "File \u001b[1;32mc:\\Users\\leore\\personal\\intro-to-data-engineering\\src\\databaseHelper.py:70\u001b[0m, in \u001b[0;36mPersonDatabaseHelper.updateField\u001b[1;34m(self, id, field, value)\u001b[0m\n\u001b[0;32m     69\u001b[0m \u001b[39mdef\u001b[39;00m \u001b[39mupdateField\u001b[39m(\u001b[39mself\u001b[39m, \u001b[39mid\u001b[39m: \u001b[39mint\u001b[39m, field: \u001b[39mstr\u001b[39m, value: \u001b[39mstr\u001b[39m):\n\u001b[1;32m---> 70\u001b[0m     \u001b[39mself\u001b[39;49m\u001b[39m.\u001b[39;49mcursor\u001b[39m.\u001b[39;49mexecute(\n\u001b[0;32m     71\u001b[0m         \u001b[39mf\u001b[39;49m\u001b[39m'''\u001b[39;49m\n\u001b[0;32m     72\u001b[0m \u001b[39m        UPDATE \u001b[39;49m\u001b[39m{\u001b[39;49;00m\u001b[39mself\u001b[39;49m\u001b[39m.\u001b[39;49mTABLE_NAME\u001b[39m}\u001b[39;49;00m\n\u001b[0;32m     73\u001b[0m \u001b[39m        SET \u001b[39;49m\u001b[39m{\u001b[39;49;00mfield\u001b[39m}\u001b[39;49;00m\u001b[39m = \u001b[39;49m\u001b[39m\"\u001b[39;49m\u001b[39m{\u001b[39;49;00mvalue\u001b[39m}\u001b[39;49;00m\u001b[39m\"\u001b[39;49m\n\u001b[0;32m     74\u001b[0m \u001b[39m        WHERE personId = \u001b[39;49m\u001b[39m{\u001b[39;49;00m\u001b[39mstr\u001b[39;49m(\u001b[39mid\u001b[39;49m)\u001b[39m}\u001b[39;49;00m\u001b[39m;\u001b[39;49m\n\u001b[0;32m     75\u001b[0m \u001b[39m        \u001b[39;49m\u001b[39m'''\u001b[39;49m\n\u001b[0;32m     76\u001b[0m     )\n",
      "\u001b[1;31mOperationalError\u001b[0m: no such column: scholar_id"
     ]
    }
   ],
   "source": [
    "from scholarly import scholarly\n",
    "from databaseHelper import Person, PersonDatabaseHelper\n",
    "from pprint import pprint\n",
    "\n",
    "dbHelper = PersonDatabaseHelper()\n",
    "\n",
    "# Selektion und Umsetzung in Person-Objekte\n",
    "persons = [Person(*row) for row in dbHelper.selectAll()]\n",
    "\n",
    "for person in persons[12:14]:\n",
    "    print(person)\n",
    "    \n",
    "    print(f\"searching google scholar for '{person.name}'\")\n",
    "    \n",
    "    try:\n",
    "        author_search = scholarly.search_author(person.name)\n",
    "        author = next(author_search)\n",
    "\n",
    "        pprint(author)\n",
    "\n",
    "        # TODO: Hier nochmal prüfen ob die Namen und Uni wirklich übereinstimmen\n",
    "\n",
    "        # scholar_id updaten\n",
    "        dbHelper.updateField(person.person_id, \"scholar_id\", author[\"scholar_id\"])\n",
    "\n",
    "        # author = scholarly.fill(author, [\"basics\", \"indices\", \"counts\", \"coauthors\", \"publications\"])\n",
    "        # pprint(author)\n",
    "\n",
    "    except StopIteration as err:\n",
    "        print(f\"No author found using name {person.name}\", err)\n",
    "    finally:\n",
    "        print(\"\\n\")\n",
    "\n",
    "dbHelper.commit()"
   ]
  }
 ],
 "metadata": {
  "kernelspec": {
   "display_name": "Python 3",
   "language": "python",
   "name": "python3"
  },
  "language_info": {
   "codemirror_mode": {
    "name": "ipython",
    "version": 3
   },
   "file_extension": ".py",
   "mimetype": "text/x-python",
   "name": "python",
   "nbconvert_exporter": "python",
   "pygments_lexer": "ipython3",
   "version": "3.11.4"
  }
 },
 "nbformat": 4,
 "nbformat_minor": 2
}
