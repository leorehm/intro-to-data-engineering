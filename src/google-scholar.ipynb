{
 "cells": [
  {
   "cell_type": "code",
   "execution_count": 4,
   "metadata": {},
   "outputs": [
    {
     "name": "stdout",
     "output_type": "stream",
     "text": [
      "The autoreload extension is already loaded. To reload it, use:\n",
      "  %reload_ext autoreload\n"
     ]
    }
   ],
   "source": [
    "# autoreload external files on execution\n",
    "%load_ext autoreload\n",
    "%autoreload 2"
   ]
  },
  {
   "cell_type": "code",
   "execution_count": 13,
   "metadata": {},
   "outputs": [
    {
     "name": "stdout",
     "output_type": "stream",
     "text": [
      "Person(person_id=13, name='Abinew Ali Ayele', title='', university='Universität Hamburg', department='LT', scholar_id='')\n",
      "searching google scholar for 'Abinew Ali Ayele'\n",
      "\n",
      "\n",
      "Person(person_id=14, name='Christian Bähnisch', title='', university='Universität Hamburg', department='HITeC', scholar_id='')\n",
      "searching google scholar for 'Christian Bähnisch'\n",
      "No author found using name Christian Bähnisch \n",
      "\n",
      "\n"
     ]
    }
   ],
   "source": [
    "from scholarly import scholarly\n",
    "from databaseHelper import Person, PersonDatabaseHelper\n",
    "from pprint import pprint\n",
    "\n",
    "dbHelper = PersonDatabaseHelper()\n",
    "\n",
    "# Selektion und Umsetzung in Person Objekte\n",
    "persons = [Person(*x) for x in dbHelper.selectAll()]\n",
    "\n",
    "for person in persons[12:14]:\n",
    "    print(person)\n",
    "    \n",
    "    print(f\"searching google scholar for '{person.name}'\")\n",
    "    \n",
    "    try:\n",
    "        author_search = scholarly.search_author(person.name)\n",
    "        author = next(author_search)\n",
    "\n",
    "        # TODO: Hier nochmal prüfen ob die Namen und Uni wirklich übereinstimmen\n",
    "\n",
    "        # scholar_id updaten\n",
    "        dbHelper.updateField(person.person_id, \"scholarId\", author[\"scholar_id\"])\n",
    "\n",
    "        # author = scholarly.fill(author, [\"basics\", \"indices\", \"counts\", \"coauthors\", \"publications\"])\n",
    "        # pprint(author)\n",
    "\n",
    "    except StopIteration as err:\n",
    "        print(f\"No author found using name {person.name}\", err)\n",
    "    finally:\n",
    "        print(\"\\n\")\n",
    "\n",
    "dbHelper.commit()"
   ]
  }
 ],
 "metadata": {
  "kernelspec": {
   "display_name": "Python 3",
   "language": "python",
   "name": "python3"
  },
  "language_info": {
   "codemirror_mode": {
    "name": "ipython",
    "version": 3
   },
   "file_extension": ".py",
   "mimetype": "text/x-python",
   "name": "python",
   "nbconvert_exporter": "python",
   "pygments_lexer": "ipython3",
   "version": "3.11.4"
  }
 },
 "nbformat": 4,
 "nbformat_minor": 2
}
