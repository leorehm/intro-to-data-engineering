{
 "cells": [
  {
   "cell_type": "markdown",
   "metadata": {},
   "source": [
    "Webscraping mit Pyhon: https://realpython.com/beautiful-soup-web-scraper-python/#scrape-the-fake-python-job-site"
   ]
  },
  {
   "cell_type": "code",
   "execution_count": 1,
   "metadata": {},
   "outputs": [],
   "source": [
    "import requests\n",
    "import re\n",
    "from bs4 import BeautifulSoup\n",
    "from databaseHelper import Person\n",
    "\n",
    "persons = []"
   ]
  },
  {
   "cell_type": "markdown",
   "metadata": {},
   "source": [
    "UHH"
   ]
  },
  {
   "cell_type": "code",
   "execution_count": 2,
   "metadata": {},
   "outputs": [
    {
     "name": "stdout",
     "output_type": "stream",
     "text": [
      "done: scraped 325 UHH staff\n"
     ]
    }
   ],
   "source": [
    "uhh_url = \"https://www2.informatik.uni-hamburg.de/fiona/pers.php\"\n",
    "\n",
    "page = requests.get(uhh_url)\n",
    "soup = BeautifulSoup(page.content, \"html.parser\")\n",
    "\n",
    "result = []\n",
    "# get all <tr> elements (here: rows of the person table)\n",
    "for person in soup.find_all(name=\"tr\"):\n",
    "    # only <tr> elements describing actual persons have an id attribute\n",
    "    if not person.has_attr(\"id\"):\n",
    "        continue\n",
    "\n",
    "    # all table field values are insde <a> tags\n",
    "    fields = person.findAll(\"a\")\n",
    "\n",
    "    name = fields[1].text\n",
    "    department = fields[2].text\n",
    "\n",
    "    result.append(Person(\n",
    "        name=name,\n",
    "        university=\"Universität Hamburg\",\n",
    "        department=department\n",
    "    ))\n",
    "\n",
    "print(f\"done: scraped {len(result)} UHH staff\")\n",
    "persons.extend(result)"
   ]
  },
  {
   "cell_type": "markdown",
   "metadata": {},
   "source": [
    "HAW"
   ]
  },
  {
   "cell_type": "code",
   "execution_count": 3,
   "metadata": {},
   "outputs": [
    {
     "name": "stdout",
     "output_type": "stream",
     "text": [
      "done: scraped 67 HAW staff\n"
     ]
    }
   ],
   "source": [
    "haw_url = \"https://www.haw-hamburg.de/hochschule/technik-und-informatik/departments/informatik/unser-department/beschaeftigte/\"\n",
    "\n",
    "page = requests.get(haw_url)\n",
    "soup = BeautifulSoup(page.content, \"html.parser\")\n",
    "\n",
    "result = []\n",
    "\n",
    "for row in soup.findAll(\"div\", class_=\"row person-tile filter_tile border-top pt-4\"):\n",
    "    person = row.find(\"div\", class_=\"col-12\")\n",
    "\n",
    "    name = \"\"\n",
    "\n",
    "    for tag in person.findAll(\"a\", {\"title\" : \"Zur Profilseite\"}):\n",
    "        for part in tag.findAll(\"b\"):\n",
    "            name += \" \" + re.sub(r\"\\s+\", \" \", part.text.strip())\n",
    "        result.append(Person(\n",
    "            name=name.strip(),\n",
    "            university=\"HAW Hamburg\"\n",
    "        ))\n",
    "\n",
    "print(f\"done: scraped {len(result)} HAW staff\")\n",
    "persons.extend(result)"
   ]
  },
  {
   "cell_type": "markdown",
   "metadata": {},
   "source": [
    "split name into title and name\n",
    "\n",
    "for instance: \n",
    "`\"Prof. Dr. Klaus-Peter Kossakowski\"` becomes `\"Prof. Dr.\", \"Klaus-Peter Kossakowski\"`"
   ]
  },
  {
   "cell_type": "code",
   "execution_count": 4,
   "metadata": {},
   "outputs": [],
   "source": [
    "for person in persons:\n",
    "    # chatGPT kann super so dumme regexe schreiben \n",
    "    pattern = r\"^(Prof\\. Dr\\.|Prof\\.|Dr\\.)(-Ing\\.| rer\\. nat\\.)?(?=.)(?:\\s|$)\"\n",
    "    \n",
    "    title = re.search(pattern, person.name)\n",
    "    \n",
    "    if not title: continue\n",
    "\n",
    "    person.title = title.group().strip()\n",
    "    person.name = re.sub(pattern, \"\", person.name).strip()"
   ]
  },
  {
   "cell_type": "markdown",
   "metadata": {},
   "source": [
    "insert persons into database"
   ]
  },
  {
   "cell_type": "code",
   "execution_count": 5,
   "metadata": {},
   "outputs": [
    {
     "name": "stdout",
     "output_type": "stream",
     "text": [
      "inserted 392 rows into table person\n"
     ]
    }
   ],
   "source": [
    "from databaseHelper import PersonDatabaseHelper\n",
    "\n",
    "dbHelper = PersonDatabaseHelper()\n",
    "\n",
    "dbHelper.deleteTable()\n",
    "dbHelper.createTable()\n",
    "\n",
    "dbHelper.insertPersons(persons)\n",
    "\n",
    "dbHelper.commit()"
   ]
  },
  {
   "cell_type": "code",
   "execution_count": null,
   "metadata": {},
   "outputs": [],
   "source": [
    "for person in dbHelper.selectAll():\n",
    "    print(person)"
   ]
  }
 ],
 "metadata": {
  "kernelspec": {
   "display_name": "Python 3",
   "language": "python",
   "name": "python3"
  },
  "language_info": {
   "codemirror_mode": {
    "name": "ipython",
    "version": 3
   },
   "file_extension": ".py",
   "mimetype": "text/x-python",
   "name": "python",
   "nbconvert_exporter": "python",
   "pygments_lexer": "ipython3",
   "version": "3.11.4"
  },
  "orig_nbformat": 4
 },
 "nbformat": 4,
 "nbformat_minor": 2
}
