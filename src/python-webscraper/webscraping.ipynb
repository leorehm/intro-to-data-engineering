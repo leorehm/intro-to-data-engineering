{
 "cells": [
  {
   "cell_type": "markdown",
   "metadata": {},
   "source": [
    "Webscraping mit Pyhon: https://realpython.com/beautiful-soup-web-scraper-python/#scrape-the-fake-python-job-site"
   ]
  },
  {
   "cell_type": "code",
   "execution_count": 1,
   "metadata": {},
   "outputs": [],
   "source": [
    "import requests\n",
    "from bs4 import BeautifulSoup\n",
    "from dataclasses import dataclass\n",
    "\n",
    "@dataclass\n",
    "class Person:\n",
    "    name: str\n",
    "    university: str\n",
    "    department: str"
   ]
  },
  {
   "cell_type": "markdown",
   "metadata": {},
   "source": [
    "UHH"
   ]
  },
  {
   "cell_type": "code",
   "execution_count": 3,
   "metadata": {},
   "outputs": [
    {
     "name": "stdout",
     "output_type": "stream",
     "text": [
      "found 349 <tr> table row elements\n",
      "[Person(name='Fares Abawi', university='Universität Hamburg', department='WTM'), Person(name='Rana Abdullah', university='Universität Hamburg', department='SEMS'), Person(name='Daniel Ahlers', university='Universität Hamburg', department='TAMS'), Person(name='Kyra Ahrens', university='Universität Hamburg', department='WTM'), Person(name='Hassan Ali', university='Universität Hamburg', department='WTM'), Person(name='Dr. Philipp Allgeuer', university='Universität Hamburg', department='WTM'), Person(name='Selenia Anastasi', university='Universität Hamburg', department='LT'), Person(name='Jakob Andersen', university='Universität Hamburg', department='MAST'), Person(name='Johanna Ansohn Mcdougall', university='Universität Hamburg', department='SVS'), Person(name='Saba Anwar', university='Universität Hamburg', department='LT'), Person(name='Dr. Oscar Javier Ariza Nunez', university='Universität Hamburg', department='HCI'), Person(name='Anne Awizen', university='Universität Hamburg', department='DBIS'), Person(name='Abinew Ali Ayele', university='Universität Hamburg', department='LT'), Person(name='Christian Bähnisch', university='Universität Hamburg', department='HITeC'), Person(name='Debayan Banerjee', university='Universität Hamburg', department='LT'), Person(name='Prof. Dr. Jan Baumbach', university='Universität Hamburg', department='CSB'), Person(name='Dennis Becker', university='Universität Hamburg', department='WTM'), Person(name='Andreas Beckert', university='Universität Hamburg', department='WVP'), Person(name='Louis Bellmann', university='Universität Hamburg', department='AMD'), Person(name='Prof. Dr. Petra Berenbrink', university='Universität Hamburg', department='ART'), Person(name='Ole Berg', university='Universität Hamburg', department='AMD'), Person(name='Marc Bestmann', university='Universität Hamburg', department='TAMS'), Person(name='Eugen Betke', university='Universität Hamburg', department='WR'), Person(name='Prof. Dr. Chris Biemann', university='Universität Hamburg', department='LT'), Person(name='Felix Biermeier', university='Universität Hamburg', department='ART'), Person(name='Volodymyr Biryuk', university='Universität Hamburg', department='MAST'), Person(name='Laura Bisby', university='Universität Hamburg', department='CSB'), Person(name='Prof. Dr. Eva Bittner', university='Universität Hamburg', department='WISTS'), Person(name='Prof. Dr. Tilo Böhmann', university='Universität Hamburg', department='ITMC'), Person(name='Wolf-Guido Bolick', university='Universität Hamburg', department='AMD'), Person(name='Leif Bonorden', university='Universität Hamburg', department='SWK'), Person(name='Marten Borchers', university='Universität Hamburg', department='WISTS'), Person(name='Michael Borchers', university='Universität Hamburg', department='HCI'), Person(name='Heiko Tobias Bornholdt', university='Universität Hamburg', department='NET'), Person(name='Abir Bouraffa', university='Universität Hamburg', department='MAST'), Person(name='Constantin Brackel-Schmidt', university='Universität Hamburg', department='ITMC'), Person(name='Julia Bräker', university='Universität Hamburg', department='ITMC'), Person(name='Cornelia Brülhart', university='Universität Hamburg', department='NET'), Person(name='Dr. Kai Brüssau', university='Universität Hamburg', department='IWI'), Person(name='Thomas Bünnemann', university='Universität Hamburg', department='RZ'), Person(name='Fabian Burmeister', university='Universität Hamburg', department='ITMC'), Person(name='Dr. Hugo Cesar Carneiro', university='Universität Hamburg', department='WTM'), Person(name='Anna Cavasin', university='Universität Hamburg', department='AMD'), Person(name='Wenkai Chen', university='Universität Hamburg', department='TAMS'), Person(name='Yan Chen-Zhang', university='Universität Hamburg', department='MAST'), Person(name='Kun Chu', university='Universität Hamburg', department='WTM'), Person(name='Dr. Lin Cong', university='Universität Hamburg', department='TAMS'), Person(name='Prof. Dr. Colin Cooper', university='Universität Hamburg', department='ART'), Person(name='Izabel Cvetkovic', university='Universität Hamburg', department='WISTS'), Person(name='Henrique da Costa Siqueira', university='Universität Hamburg', department='WTM'), Person(name='Christoph Damerius', university='Universität Hamburg', department='TEA'), Person(name='Alexandra Dannenberg', university='Universität Hamburg', department='ITMC'), Person(name='Danilo de Oliveira', university='Universität Hamburg', department='SP'), Person(name='Konrad Diedrich', university='Universität Hamburg', department='AMD'), Person(name='Marina Ɖimber', university='Universität Hamburg', department='FB-Management'), Person(name='Kerstin Diop-Nickel', university='Universität Hamburg', department='CV'), Person(name='Uschi Dolfus', university='Universität Hamburg', department='AMD'), Person(name='Prof. Dr. Leonie Dreschler-Fischer', university='Universität Hamburg', department='SAV'), Person(name='Prof. Dr. Janick Edinger', university='Universität Hamburg', department='DOS'), Person(name='Emanuel Ehmki', university='Universität Hamburg', department='AMD'), Person(name='Dr. Christiane Ehrt', university='Universität Hamburg', department='AMD'), Person(name='Doğanalp Ergenç', university='Universität Hamburg', department='NET'), Person(name='Rainer Faehrrolfes', university='Universität Hamburg', department='AMD'), Person(name='Huajian Fang', university='Universität Hamburg', department='SP'), Person(name='Dr. Fariba Fazli', university='Universität Hamburg', department='MAST'), Person(name='Prof. Dr.-Ing. Hannes Federrath', university='Universität Hamburg', department='SVS'), Person(name='Amit Fenn', university='Universität Hamburg', department='CSB'), Person(name='Niklas Fiedler', university='Universität Hamburg', department='TAMS'), Person(name='Prof. Dr. Mathias Fischer', university='Universität Hamburg', department='NET'), Person(name='Tim Fischer', university='Universität Hamburg', department='LT'), Person(name='Florian Flachsenberg', university='Universität Hamburg', department='AMD'), Person(name='Wiebke Frauen', university='Universität Hamburg', department='HITeC'), Person(name='Prof. Dr. Simone Frintrop', university='Universität Hamburg', department='CV'), Person(name='Dr. Di Fu', university='Universität Hamburg', department='WTM'), Person(name='Anna Fuchs', university='Universität Hamburg', department='WR'), Person(name='Susanne Fuchs', university='Universität Hamburg', department='WVP'), Person(name='Jenny Gabel', university='Universität Hamburg', department='HCI'), Person(name='Connor Gäde', university='Universität Hamburg', department='WTM'), Person(name='Larissa Gebken', university='Universität Hamburg', department='ITMC'), Person(name='Sebastian Gerdes', university='Universität Hamburg', department='SWK'), Person(name='Melanie Geringhoff', university='Universität Hamburg', department='AMD'), Person(name='Prof. Dr.-Ing. Timo Gerkmann', university='Universität Hamburg', department='SP'), Person(name='Dr. Maren Gierlich-Joas', university='Universität Hamburg', department='WISTS'), Person(name='Daniel Glake', university='Universität Hamburg', department='>>>'), Person(name='Dr. Johannes Göbel', university='Universität Hamburg', department='Studienbüro'), Person(name='Michael Görner', university='Universität Hamburg', department='TAMS'), Person(name='Joel Graef', university='Universität Hamburg', department='AMD'), Person(name='Michael Größler', university='Universität Hamburg', department='AMD'), Person(name='Martin Gromniak', university='Universität Hamburg', department='WTM'), Person(name='Jasper Güldenstein', university='Universität Hamburg', department='TAMS'), Person(name='Torben Gutermuth', university='Universität Hamburg', department='AMD'), Person(name='Jan-Gerrit Habekost', university='Universität Hamburg', department='WTM'), Person(name='Lena Hackl', university='Universität Hamburg', department='CSB'), Person(name='Christine Häusser', university='Universität Hamburg', department='Bibliothek'), Person(name='Dr. Muhammad Burhan Hafez', university='Universität Hamburg', department='WTM'), Person(name='Tim Christopher Hahn', university='Universität Hamburg', department='ART'), Person(name='Björn Hanssen', university='Universität Hamburg', department='Studienbüro'), Person(name='Tobias Harren', university='Universität Hamburg', department='AMD'), Person(name='Judith Hartfill', university='Universität Hamburg', department='HCI'), Person(name='Michael Hartung', university='Universität Hamburg', department='CSB'), Person(name='Hans Ole Hatzel', university='Universität Hamburg', department='LT'), Person(name='Christopher Haubeck', university='Universität Hamburg', department='VSYS'), Person(name='Michael Haustermann', university='Universität Hamburg', department='ART'), Person(name='Leonard Heilig', university='Universität Hamburg', department='IWI'), Person(name='Dr. Norman Hendrich', university='Universität Hamburg', department='TAMS'), Person(name='Julia Hertel', university='Universität Hamburg', department='HCI'), Person(name='Rainer Herzog', university='Universität Hamburg', department='HITeC'), Person(name='Marvin Heuer', university='Universität Hamburg', department='ITMC'), Person(name='Marc Heydorn', university='Universität Hamburg', department='Schulsupport'), Person(name='Andreas Heymann', university='Universität Hamburg', department='RZ'), Person(name='Sophia Hönig', university='Universität Hamburg', department='AMD'), Person(name='Carolin Holtermann', university='Universität Hamburg', department='DS'), Person(name='Hamed Hosseinpour', university='Universität Hamburg', department='ART'), Person(name='Dr. Lothar Hotz', university='Universität Hamburg', department='KOGS'), Person(name='Katrin Howind', university='Universität Hamburg', department='Bibliothek'), Person(name='Yihong Hu', university='Universität Hamburg', department='TAMS'), Person(name='Junbo Huang', university='Universität Hamburg', department='SEMS'), Person(name='Dr. Abhik Jana', university='Universität Hamburg', department='LT'), Person(name='Dieter Jessen', university='Universität Hamburg', department='CV'), Person(name='Longquan Jiang', university='Universität Hamburg', department='SEMS'), Person(name='Dirk Johannßen', university='Universität Hamburg', department='LT'), Person(name='Yannick Jonetzko', university='Universität Hamburg', department='TAMS'), Person(name='Nidhi Joshi', university='Universität Hamburg', department='HCI'), Person(name='German Alberto Junca Bernal', university='Universität Hamburg', department='TAMS'), Person(name='Burak Can Kaplan', university='Universität Hamburg', department='WTM'), Person(name='Sukran Karaosmanoglu', university='Universität Hamburg', department='HCI'), Person(name='André Kelm', university='Universität Hamburg', department='CV'), Person(name='Matthias Kerzel', university='Universität Hamburg', department=''), Person(name='Felix Kiehn', university='Universität Hamburg', department='DBIS'), Person(name='Philipp Kisters', university='Universität Hamburg', department='DOS'), Person(name='Marc Klegin', university='Universität Hamburg', department='RZ'), Person(name='Prof. Dr. Peter Kling', university='Universität Hamburg', department='TEA'), Person(name='Ronald Kock', university='Universität Hamburg', department='Serviceteam'), Person(name='Prof. Dr. Michael Köhler-Bußmeier', university='Universität Hamburg', department='ART'), Person(name='Katrin Köster', university='Universität Hamburg', department='LT'), Person(name='Kevin Köster', university='Universität Hamburg', department='SVS'), Person(name='Katja Kösters', university='Universität Hamburg', department='WTM'), Person(name='Ogeigha Koroyin', university='Universität Hamburg', department='HITeC'), Person(name='Mostafa Mohamed Kotb Said', university='Universität Hamburg', department='WTM'), Person(name='Angelie Kraft', university='Universität Hamburg', department='SEMS'), Person(name='Dr. Beltsazar Krisetya', university='Universität Hamburg', department=''), Person(name='Anja Kroscky', university='Universität Hamburg', department='Studienbüro'), Person(name='Lucie Kruse', university='Universität Hamburg', department='HCI'), Person(name='Emir Kučević', university='Universität Hamburg', department='ITMC'), Person(name='Bjoern Kulas', university='Universität Hamburg', department='HITeC'), Person(name='Anne Kunstmann', university='Universität Hamburg', department='SVS'), Person(name='Dr. Christian Kurtz', university='Universität Hamburg', department='ITMC'), Person(name='Egor Lakomkin', university='Universität Hamburg', department='WTM'), Person(name='Prof. Dr. Winfried Lamersdorf', university='Universität Hamburg', department='VSYS'), Person(name='Sergio Lanza', university='Universität Hamburg', department='WTM'), Person(name='Prof. Dr. Sören Laue', university='Universität Hamburg', department='ML'), Person(name='Dr. Mikko Lauri', university='Universität Hamburg', department=''), Person(name='Prof. Dr. Anne Lauscher', university='Universität Hamburg', department='DS'), Person(name='Navin Laxminarayanan Raj Prabhu', university='Universität Hamburg', department='SP'), Person(name='Bunlong Lay', university='Universität Hamburg', department='SP'), Person(name='Dr. Jae Hee Lee', university='Universität Hamburg', department='WTM'), Person(name='Anna Leffler', university='Universität Hamburg', department='Studienbüro'), Person(name='Jean-Marie Lemercier', university='Universität Hamburg', department='SP'), Person(name='Dr. Hermann Lenhart', university='Universität Hamburg', department='WR'), Person(name='Jörn Leukert', university='Universität Hamburg', department='Bibliothek'), Person(name='Tom Lewandowski', university='Universität Hamburg', department='ITMC'), Person(name='Mengdi Li', university='Universität Hamburg', department='WTM'), Person(name='Dr. Qiang Li', university='Universität Hamburg', department='TAMS'), Person(name='Dr. Shuang Li', university='Universität Hamburg', department='TAMS'), Person(name='Dr. Hongzhuo Liang', university='Universität Hamburg', department='TAMS'), Person(name='Dr. Jens Lindemann', university='Universität Hamburg', department='SVS'), Person(name='Melvyn Linke', university='Universität Hamburg', department='HITeC'), Person(name='Chit Tong Lio', university='Universität Hamburg', department='CSB'), Person(name='Shang-Ching Liu', university='Universität Hamburg', department='TAMS'), Person(name='Prof. Dr. Chu Kiong Loo', university='Universität Hamburg', department='WTM'), Person(name='Zakaria Louadi', university='Universität Hamburg', department='CSB'), Person(name='Wenhao Lu', university='Universität Hamburg', department='WTM'), Person(name='Prof. Dr. Thomas Ludwig', university='Universität Hamburg', department='WR'), Person(name='Clara Marie Lüders', university='Universität Hamburg', department='MAST'), Person(name='Antje Lünstedt', university='Universität Hamburg', department='HCI'), Person(name='Jianzhi Lyu', university='Universität Hamburg', department='TAMS'), Person(name='Dr. Marten Maack', university='Universität Hamburg', department='ART'), Person(name='Prof. Dr. Walid Maalej', university='Universität Hamburg', department='MAST'), Person(name='Dr. Andreas Mäder', university='Universität Hamburg', department='TAMS'), Person(name='Dr. Sven Magg', university='Universität Hamburg', department='HITeC'), Person(name='Dr. Karen Manalastas-Cantos', university='Universität Hamburg', department='CSB'), Person(name='Georgiana Mania', university='Universität Hamburg', department='WR'), Person(name='Alina Mannanova', university='Universität Hamburg', department='SP'), Person(name='Natalia Mannov', university='Universität Hamburg', department='MAST'), Person(name='Celeste Mason', university='Universität Hamburg', department='HCI'), Person(name='Julian Matschinske', university='Universität Hamburg', department='CSB'), Person(name='Lucas Memmert', university='Universität Hamburg', department='WISTS'), Person(name='Prof. Dr.-Ing. Wolfgang Menzel', university='Universität Hamburg', department='NATS'), Person(name='Christian Meyenburg', university='Universität Hamburg', department='AMD'), Person(name='Kameswar Rao Modali', university='Universität Hamburg', department='WVP'), Person(name='Cedric Möller', university='Universität Hamburg', department='SEMS'), Person(name='Dr. Daniel Moldt', university='Universität Hamburg', department='ART'), Person(name='Lloyd Montgomery', university='Universität Hamburg', department='MAST'), Person(name='Annette Morawski', university='Universität Hamburg', department='FB-Management'), Person(name='Dr. Fariba Mostajeran Gourtani', university='Universität Hamburg', department='HCI'), Person(name='David Mosteller', university='Universität Hamburg', department='ART'), Person(name='Max Neuendorf', university='Universität Hamburg', department='NET'), Person(name='Prof. Ph.D. Bernd Neumann', university='Universität Hamburg', department='KOGS'), Person(name='Irina Nikishina', university='Universität Hamburg', department='LT'), Person(name='Wiebke Noeske', university='Universität Hamburg', department='TAMS'), Person(name='Volker Nötzold', university='Universität Hamburg', department='DBIS'), Person(name='Prof. Dr. Markus Nüttgens', university='Universität Hamburg', department='HARCIS'), Person(name='Prof. Dr. Horst Oberquelle', university='Universität Hamburg', department='ASI'), Person(name='Ozan Özdemir', university='Universität Hamburg', department='WTM'), Person(name='Prof. Dr.-Ing. Stephan Olbrich', university='Universität Hamburg', department='WVP'), Person(name='Dr. Gabriel Orsini', university='Universität Hamburg', department='VSYS'), Person(name='Mhaned Oubounyt', university='Universität Hamburg', department='CSB'), Person(name='Prof. Dr.-Ing. Bernd Page', university='Universität Hamburg', department='MBS'), Person(name='Prof. Dr. Fabian Panse', university='Universität Hamburg', department='DBIS'), Person(name='Janis-Marie Paul', university='Universität Hamburg', department='ITMC'), Person(name='Tal Peer', university='Universität Hamburg', department='SP'), Person(name='Theresa Pekarek-Rosin', university='Universität Hamburg', department='WTM'), Person(name='Patrick Penner', university='Universität Hamburg', department='AMD'), Person(name='Pauline Perez', university='Universität Hamburg', department='DS'), Person(name='Dr.-Ing. Annika Peters', university='Universität Hamburg', department='WTM'), Person(name='Silke Peters', university='Universität Hamburg', department='Studienbüro'), Person(name='Tom Petersen', university='Universität Hamburg', department='SVS'), Person(name='Fynn Petersen-Frey', university='Universität Hamburg', department='LT'), Person(name='Yen Pham', university='Universität Hamburg', department='MAST'), Person(name='Jonathan Pletzer-Zelgert', university='Universität Hamburg', department='AMD'), Person(name='Dimitri Popov', university='Universität Hamburg', department='RZ'), Person(name='Martin Poppinga', university='Universität Hamburg', department='DBIS'), Person(name='Dr. Wolf Dietmar Posdorfer', university='Universität Hamburg', department='base.camp'), Person(name='Tomislav Prusina', university='Universität Hamburg', department='ML'), Person(name='Dr. Jun-Patrick Raabe', university='Universität Hamburg', department='ITG'), Person(name='Paula Rachow', university='Universität Hamburg', department='SWK'), Person(name='Prof. Dr. Matthias Rarey', university='Universität Hamburg', department='AMD'), Person(name='Dr.-Ing. Malin Rau', university='Universität Hamburg', department='ART'), Person(name='Dr. Marc Rautenhaus', university='Universität Hamburg', department='WVP'), Person(name='Dr. Michaela Regneri', university='Universität Hamburg', department='ML'), Person(name='Steffen Remus', university='Universität Hamburg', department='LT'), Person(name='Anja Richter', university='Universität Hamburg', department='HITeC'), Person(name='Julius Richter', university='Universität Hamburg', department='SP'), Person(name='Stephanie von Riegen', university='Universität Hamburg', department='HITeC'), Person(name='Sebastian Reiner Rings', university='Universität Hamburg', department='HCI'), Person(name='Prof. Dr. Norbert Ritter', university='Universität Hamburg', department='DBIS'), Person(name='Kevin Röbert', university='Universität Hamburg', department='NET'), Person(name='Prof. Dr. Arno Rolf', university='Universität Hamburg', department='ASI'), Person(name='Tim Rolff', university='Universität Hamburg', department='CV'), Person(name='Catharina Rudschies', university='Universität Hamburg', department='>>>'), Person(name='Philipp Ruppel', university='Universität Hamburg', department='TAMS'), Person(name='Noha Sarhan', university='Universität Hamburg', department='CV'), Person(name='Dagmar Schacht', university='Universität Hamburg', department='Studienbüro'), Person(name='Tim Scharfenberg', university='Universität Hamburg', department='FB-Management'), Person(name='Andreas Schiek', university='Universität Hamburg', department='Serviceteam'), Person(name='Prof. Dr. Ingrid Schirmer', university='Universität Hamburg', department='ITG'), Person(name='Helen Schloh', university='Universität Hamburg', department='DOS'), Person(name='Mareike Schmidt', university='Universität Hamburg', department='DBIS'), Person(name='Dennis Schmitz', university='Universität Hamburg', department='ART'), Person(name='Florian Schneider', university='Universität Hamburg', department='ART'), Person(name='Prof. Dr. Ingrid Schneider', university='Universität Hamburg', department='>>>'), Person(name='Dr. Katrin Schöning-Stierand', university='Universität Hamburg', department='HCDS'), Person(name='Dr. Katrin Schöning-Stierand', university='Universität Hamburg', department='AMD'), Person(name='Bernd Schütz', university='Universität Hamburg', department='TAMS'), Person(name='Janik Noel Schug', university='Universität Hamburg', department='SVS'), Person(name='Stephanie Schulte Hemming', university='Universität Hamburg', department='SWK'), Person(name='Angela Schwabl-Möhlmann', university='Universität Hamburg', department='ITG'), Person(name='August See', university='Universität Hamburg', department='NET'), Person(name='Dr. Martin Semmann', university='Universität Hamburg', department='HCDS'), Person(name='Nurefsan Sertbas Bülbül', university='Universität Hamburg', department='NET'), Person(name='Özge Sevgili Ergüven', university='Universität Hamburg', department='LT'), Person(name='Shaista Shabbir', university='Universität Hamburg', department='SEMS'), Person(name='Sehrish Shafeeq', university='Universität Hamburg', department='NET'), Person(name='Najeebullah Shams', university='Universität Hamburg', department='SEMS'), Person(name='Arunima Sharma', university='Universität Hamburg', department='HCDS'), Person(name='Jochen Sieg', university='Universität Hamburg', department='AMD'), Person(name='Prof. Dr. Judith Simon', university='Universität Hamburg', department=''), Person(name='Britta Skulima', university='Universität Hamburg', department='NET'), Person(name='Kai Sommer', university='Universität Hamburg', department='AMD'), Person(name='Daria Soroko', university='Universität Hamburg', department='WISTS'), Person(name='Julian Späth', university='Universität Hamburg', department='CSB'), Person(name='Josua Spisak', university='Universität Hamburg', department='WTM'), Person(name='Jannek Squar', university='Universität Hamburg', department='WR'), Person(name='Dr. Christoph Stanik', university='Universität Hamburg', department='MAST'), Person(name='Prof. Dr. Frank Steinicke', university='Universität Hamburg', department='HCI'), Person(name='Prof. Dr.-Ing. H.-Siegfried Stiehl', university='Universität Hamburg', department='BV'), Person(name='Joshua Stock', university='Universität Hamburg', department='SVS'), Person(name='Erik Strahl', university='Universität Hamburg', department='WTM'), Person(name='Xiaowen Sun', university='Universität Hamburg', department='WTM'), Person(name='Alexander Sutherland', university='Universität Hamburg', department='WTM'), Person(name='Tilahun Abedissa Taffa', university='Universität Hamburg', department='SEMS'), Person(name='Nimet Tas', university='Universität Hamburg', department='WISTS'), Person(name='Dr. Navid Tavanapour', university='Universität Hamburg', department='WISTS'), Person(name='Kristina Tesch', university='Universität Hamburg', department='SP'), Person(name='Jöran Tesse', university='Universität Hamburg', department='ITG'), Person(name='Tatjana Tetsis', university='Universität Hamburg', department='TAMS'), Person(name='Dr. Daniel Thewes', university='Universität Hamburg', department='WR'), Person(name='Dr. Suzanne Tolmeijer', university='Universität Hamburg', department='WISTS'), Person(name='Dr. Olga Tsoy', university='Universität Hamburg', department='CSB'), Person(name='Yuyang Tu', university='Universität Hamburg', department='TAMS'), Person(name='Dr. Johannes Twiefel', university='Universität Hamburg', department='WTM'), Person(name='Chikaodi Gloria Uba', university='Universität Hamburg', department='ITMC'), Person(name='Prof. Dr. Ricardo Usbeck', university='Universität Hamburg', department='SEMS'), Person(name='Prof. Dr. Rüdiger Valk', university='Universität Hamburg', department=''), Person(name='Dr.-Ing. André van Hoorn', university='Universität Hamburg', department='SWK'), Person(name='Karina Vida', university='Universität Hamburg', department='DS'), Person(name='Thorwin Vogt', university='Universität Hamburg', department='WVP'), Person(name='Carina Volkmer', university='Universität Hamburg', department='MAST'), Person(name='Prof. Dr. Stefan Voß', university='Universität Hamburg', department='IWI'), Person(name='Xintong Wang', university='Universität Hamburg', department='LT'), Person(name='Dr. Florens Wasserfall', university='Universität Hamburg', department='TAMS'), Person(name='Dr. Cornelius Weber', university='Universität Hamburg', department='WTM'), Person(name='Tom Weber', university='Universität Hamburg', department='SWK'), Person(name='Juliane Wegner', university='Universität Hamburg', department='Studienbüro'), Person(name='Simon Welker', university='Universität Hamburg', department='SP'), Person(name='Prof. Dr. Stefan Wermter', university='Universität Hamburg', department='WTM'), Person(name='Pascal Wichmann', university='Universität Hamburg', department='SVS'), Person(name='Marion Wiese', university='Universität Hamburg', department='SWK'), Person(name='Florian Wilkens', university='Universität Hamburg', department='NET'), Person(name='Dr. Christian Wilms', university='Universität Hamburg', department='CV'), Person(name='Tatjana Wingarz', university='Universität Hamburg', department='NET'), Person(name='Prof. Dr. Bernd E. Wolfinger', university='Universität Hamburg', department='TKRN'), Person(name='Benjamin Wollmer', university='Universität Hamburg', department='DBIS'), Person(name='Dr. Ehsan Yaghoubi', university='Universität Hamburg', department='CV'), Person(name='Xi Yan', university='Universität Hamburg', department='SEMS'), Person(name='Dr. Seid Muhie Yimam', university='Universität Hamburg', department='LT'), Person(name='Mohammad Ali Zamani', university='Universität Hamburg', department='WTM'), Person(name='Niklas Zapatka', university='Universität Hamburg', department='SVS'), Person(name='Dr. Chao Zeng', university='Universität Hamburg', department='TAMS'), Person(name='Dr. Hui Zhang', university='Universität Hamburg', department='TAMS'), Person(name='Prof. Dr. Jianwei Zhang', university='Universität Hamburg', department='TAMS'), Person(name='Xufeng Zhao', university='Universität Hamburg', department='WTM'), Person(name='Liu Zheng', university='Universität Hamburg', department='TAMS'), Person(name='Reinhard Zierke', university='Universität Hamburg', department='RZ'), Person(name='Aleksandar Zivkovic', university='Universität Hamburg', department='RZ')]\n"
     ]
    }
   ],
   "source": [
    "uhh_url = \"https://www2.informatik.uni-hamburg.de/fiona/pers.php\"\n",
    "\n",
    "page = requests.get(uhh_url)\n",
    "soup = BeautifulSoup(page.content, \"html.parser\")\n",
    "\n",
    "# get all <tr> elements (here: rows of the person table)\n",
    "persons = soup.find_all(name=\"tr\")\n",
    "print(f\"found {len(persons)} <tr> table row elements\")\n",
    "\n",
    "result = []\n",
    "\n",
    "for person in persons:\n",
    "    # only <tr> elements describing actual persons have an id attribute\n",
    "    if not person.has_attr(\"id\"):\n",
    "        continue\n",
    "\n",
    "    # all table field values are insde <a> tags\n",
    "    fields = person.findAll(\"a\")\n",
    "\n",
    "    name = fields[1].text           # second <a> always contains the name\n",
    "    department = fields[2].text\n",
    "\n",
    "    result.append(Person(\n",
    "        name=name,\n",
    "        university=\"Universität Hamburg\",\n",
    "        department=department\n",
    "    ))\n",
    "\n",
    "print(result)\n"
   ]
  },
  {
   "cell_type": "markdown",
   "metadata": {},
   "source": [
    "HAW"
   ]
  },
  {
   "cell_type": "code",
   "execution_count": 11,
   "metadata": {},
   "outputs": [
    {
     "name": "stdout",
     "output_type": "stream",
     "text": [
      "found 67 <tr> table row elements\n",
      "<b>Johann\n",
      "\t\t\t\t\t\t\t\t\t\t\t\tAbrams </b>\n",
      "<b>Christian\n",
      "\t\t\t\t\t\t\t\t\t\t\t\tAhlf </b>\n",
      "<b>Jakob\n",
      "\t\t\t\t\t\t\t\t\t\t\t\tAndersen </b>\n",
      "<b>Behnisch\n",
      "\t\t\t\t\t\t\t\t\t\t\t\tAwis </b>\n",
      "<b>Prof. Dr.</b>\n",
      "<b>Prof. Dr.</b>\n",
      "<b>Ilona\n",
      "\t\t\t\t\t\t\t\t\t\t\t\tBlanck </b>\n",
      "<b>Holger\n",
      "\t\t\t\t\t\t\t\t\t\t\t\tBrackelmann </b>\n",
      "<b>Michael\n",
      "\t\t\t\t\t\t\t\t\t\t\t\tBrodersen </b>\n",
      "<b>Arne\n",
      "\t\t\t\t\t\t\t\t\t\t\t\tBusch </b>\n",
      "<b>Prof. Dr.</b>\n",
      "<b>Prof. Dr.</b>\n",
      "<b>Prof. Dr.</b>\n",
      "<b>Tobias\n",
      "\t\t\t\t\t\t\t\t\t\t\t\tDe Gasperis </b>\n",
      "<b>Maximilian\n",
      "\t\t\t\t\t\t\t\t\t\t\t\tDe Muirier </b>\n",
      "<b>Uwe\n",
      "\t\t\t\t\t\t\t\t\t\t\t\tDoleschel </b>\n",
      "<b>Dr.</b>\n",
      "<b>Prof. Dr.</b>\n",
      "<b>Prof. Dr.</b>\n",
      "<b>Timo\n",
      "\t\t\t\t\t\t\t\t\t\t\t\tHäckel </b>\n",
      "<b>Prof. Dr.-Ing.</b>\n",
      "<b>Dr.</b>\n",
      "<b>Torge\n",
      "\t\t\t\t\t\t\t\t\t\t\t\tHinrichs </b>\n",
      "<b>Prof. Dr.</b>\n",
      "<b>Prof. Dr.</b>\n",
      "<b>Prof. Dr.</b>\n",
      "<b>Prof. Dr.</b>\n",
      "<b>Holger\n",
      "\t\t\t\t\t\t\t\t\t\t\t\tKlindtworth </b>\n",
      "<b>Prof. Dr.-Ing.</b>\n",
      "<b>Prof. Dr.</b>\n",
      "<b>Prof. Dr.</b>\n",
      "<b>Prof. Dr.</b>\n",
      "<b>Prof. Dr.</b>\n",
      "<b>Dr. rer. nat.</b>\n",
      "<b>Prof. Dr.</b>\n",
      "<b>Tim\n",
      "\t\t\t\t\t\t\t\t\t\t\t\tLuecke </b>\n",
      "<b>Philip\n",
      "\t\t\t\t\t\t\t\t\t\t\t\tMcClenaghan </b>\n",
      "<b>Prof. Dr.</b>\n",
      "<b>Britta\n",
      "\t\t\t\t\t\t\t\t\t\t\t\tMeyer </b>\n",
      "<b>Prof. Dr.</b>\n",
      "<b>Malte\n",
      "\t\t\t\t\t\t\t\t\t\t\t\tNogalski </b>\n",
      "<b>Prof. Dr.</b>\n",
      "<b>Prof. Dr.</b>\n",
      "<b>Peter\n",
      "\t\t\t\t\t\t\t\t\t\t\t\tRadzuweit </b>\n",
      "<b>Jochen\n",
      "\t\t\t\t\t\t\t\t\t\t\t\tRust </b>\n",
      "<b>Daniel\n",
      "\t\t\t\t\t\t\t\t\t\t\t\tSarnow </b>\n",
      "<b>Prof. Dr.</b>\n",
      "<b>Prof. Dr.</b>\n",
      "<b>Tim\n",
      "\t\t\t\t\t\t\t\t\t\t\t\tSchlachter </b>\n",
      "<b>Knut\n",
      "\t\t\t\t\t\t\t\t\t\t\t\tSchmahl </b>\n",
      "<b>Prof. Dr.</b>\n",
      "<b>Prof. Dr.</b>\n",
      "<b>Prof. Dr.</b>\n",
      "<b>Prof. Dr.</b>\n",
      "<b>Dr. rer. nat.</b>\n",
      "<b>Stefan\n",
      "\t\t\t\t\t\t\t\t\t\t\t\tStanjek </b>\n",
      "<b>Prof. Dr.</b>\n",
      "<b>Prof. Dr.</b>\n",
      "<b>Prof. Dr.</b>\n",
      "<b>Prof. Dr.</b>\n",
      "<b>Prof. Dr.</b>\n",
      "<b>Jörg\n",
      "\t\t\t\t\t\t\t\t\t\t\t\tvon der Hülls </b>\n",
      "<b>Prof. Dr.</b>\n",
      "<b>Beate\n",
      "\t\t\t\t\t\t\t\t\t\t\t\tWaltrup </b>\n",
      "<b>Prof. Dr.</b>\n",
      "<b>Andrej\n",
      "\t\t\t\t\t\t\t\t\t\t\t\tZieger </b>\n",
      "<b>Prof. Dr.</b>\n"
     ]
    }
   ],
   "source": [
    "haw_url = \"https://www.haw-hamburg.de/hochschule/technik-und-informatik/departments/informatik/unser-department/beschaeftigte/\"\n",
    "\n",
    "page = requests.get(haw_url)\n",
    "soup = BeautifulSoup(page.content, \"html.parser\")\n",
    "\n",
    "# get all <tr> elements (here: rows of the person table)\n",
    "rows = soup.find_all(\"div\", class_=\"row person-tile filter_tile border-top pt-4\")\n",
    "print(f\"found {len(persons)} <tr> table row elements\")\n",
    "\n",
    "for row in rows:\n",
    "    person = row.find(\"div\", class_=\"col-9\")\n",
    "    name = person.find(\"b\")\n",
    "    print(name)"
   ]
  }
 ],
 "metadata": {
  "kernelspec": {
   "display_name": "Python 3",
   "language": "python",
   "name": "python3"
  },
  "language_info": {
   "codemirror_mode": {
    "name": "ipython",
    "version": 3
   },
   "file_extension": ".py",
   "mimetype": "text/x-python",
   "name": "python",
   "nbconvert_exporter": "python",
   "pygments_lexer": "ipython3",
   "version": "3.11.4"
  },
  "orig_nbformat": 4
 },
 "nbformat": 4,
 "nbformat_minor": 2
}
